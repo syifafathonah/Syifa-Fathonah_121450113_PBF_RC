{
 "cells": [
  {
   "cell_type": "markdown",
   "metadata": {
    "id": "TC5-f3dIuSpy"
   },
   "source": [
    "# NAMA : SYIFA FATHONAH\n",
    "# NIM : 121450113\n",
    "# KELAS : PBF RC\n",
    "# PROGRAM STUDI SAINS DATA"
   ]
  },
  {
   "cell_type": "markdown",
   "metadata": {
    "id": "dy7_szZbuSp2"
   },
   "source": [
    "# 1. Jelaskan menggunakan tabel mengenai kelebihan dan kekurangan paradigma Procedural dibandingkan dengan Object Oriented (minimal 3) !"
   ]
  },
  {
   "cell_type": "markdown",
   "metadata": {
    "id": "_N948u0IhT6W"
   },
   "source": [
    "## Kekurangan Procedural Dibandingkan Object Oriented\n",
    "<table>\n",
    "        <tr>\n",
    "            <th bgcolor=\"purple\">Procedural</th>\n",
    "            <th bgcolor=\"purple\">Object Oriented</th>\n",
    "        </tr>\n",
    "        <tr>\n",
    "            <td>Procedural kurang aman jika dibandingkan Object Oriented <br> karena tidak dapat melakukan abstraction dalam penyembunyian data</td>\n",
    "            <td>Object Oriented dapat melakukan abstraction dalam penyembunyian data <br> sehingga jauh lebih aman jika dibandingkan Procedural.</td>\n",
    "        </tr>\n",
    "        <tr>\n",
    "            <td>Prosedural tidak memiliki access modifiers</td>\n",
    "            <td>OOP memiliki access modifiers seperti public, protected, dan private.</td>\n",
    "        </tr>\n",
    "        <tr>\n",
    "            <td>Prosedural sulit dimodifikasi</td>\n",
    "            <td>OOP Lebih mudah dimodifikasi</td>\n",
    "        </tr>\n",
    "         <tr>\n",
    "            <td>Prosedural kurang cocok untuk program/aplikasi complex</td>\n",
    "            <td>OOP Cocok untuk program/aplikasi complex</td>\n",
    "        </tr>\n",
    "        <tr>\n",
    "            <td>Data bersifat pasif</td>\n",
    "            <td>Objek bersifat aktif</td>\n",
    "        </tr>\n",
    "</table>\n",
    "\n",
    "## Kelebihan Procedural dibandingkan Object Oriented\n",
    "<table>\n",
    "        <tr>\n",
    "            <th bgcolor=\"purple\">Procedural</th>\n",
    "            <th bgcolor=\"purple\">Object Oriented</th>\n",
    "        </tr>\n",
    "        <tr>\n",
    "            <td>Cocok untuk aplikasi atau program sederhana</td>\n",
    "            <td>Kurang cocok untuk aplikasi atau program sederhana</td>\n",
    "        </tr>\n",
    "        <tr>\n",
    "            <td>Membutuhkan memori yang lebih sedikit dibanding Object Oriented</td>\n",
    "            <td>Membutuhkan memori yang lebih besar dibanding Procedural</td>\n",
    "        </tr>\n",
    "        <tr>\n",
    "            <td>Lebih mudah dipahami jika dibandingkan Object Oriented</td>\n",
    "            <td>Lebih sulit dipahami jika dibandingkan Procedural</td>\n",
    "        </tr>\n",
    "</table>"
   ]
  },
  {
   "cell_type": "markdown",
   "metadata": {
    "id": "G6LQ0NecwE9h"
   },
   "source": [
    "# 2. Jelaskan menggunakan tabel mengenai kelebihan dan kekurangan paradigma Object Oriented dibandingkan dengan Functional (minimal 3) !"
   ]
  },
  {
   "cell_type": "markdown",
   "metadata": {
    "id": "GT2_-Sh5wgOC"
   },
   "source": [
    "## Kekurangan Object Oriented dibandingkan Functional\n",
    "<table>\n",
    "        <tr>\n",
    "            <th bgcolor=\"purple\">Object Oriented</th>\n",
    "            <th bgcolor=\"purple\">Functional</th>\n",
    "        </tr>\n",
    "        <tr>\n",
    "            <td>Tidak mendukung parallel programming</td>\n",
    "            <td>Mendukung parallel programming</td>\n",
    "        </tr>\n",
    "        <tr>\n",
    "            <td>Kode lebih banyak jika dibandingkan Functional </td>\n",
    "            <td>Kode lebih sedikit jika dibandingkan Object Oriented</td>\n",
    "        </tr>\n",
    "        <tr>\n",
    "            <td>Kurang cocok jika digunakan untuk tugas tertentu, karena yang penting adalah hasil<br>dibandingkan Functional</td>\n",
    "            <td>Lebih cocok digunakan untuk tugas tertentu, karena tidak mementingkan hasil</td>\n",
    "        </tr>\n",
    "        <tr>\n",
    "            <td>Membutuhkan memori yang  lebih besar jika dibandingkan dengan Functional</td>\n",
    "            <td>Membutuhkan memori lebih kecil jika dibandingkan dengan Object Oriented</td>\n",
    "        </tr>\n",
    "      \n",
    "</table>\n",
    "\n",
    "\n",
    "\n",
    "## Kelebihan Object Oriented dibandingkan Functional\n",
    "<table>\n",
    "        <tr>\n",
    "            <th bgcolor=\"purple\">Object Oriented</th>\n",
    "            <th bgcolor=\"purple\">Functional</th>\n",
    "        </tr>\n",
    "        <tr>\n",
    "            <td>Lebih mudah dipahami jika dibandingkan dengan Functional</td>\n",
    "            <td>Lebih susah dipahami jika dibandingkan dengan Object Oriented</td>\n",
    "        </tr>\n",
    "        <tr>\n",
    "            <td>Data bersifat mutable</td>\n",
    "            <td>Data bersifat imutable</td>\n",
    "        </tr>\n",
    "        <tr>\n",
    "            <td>Lebih cocok untuk project besar</td>\n",
    "            <td>Kurang cocok untuk project besar</td>\n",
    "        </tr>\n",
    "         <tr>\n",
    "            <td>Algoritma lebih jelas</td>\n",
    "            <td>Algoritma kurang jelas</td>\n",
    "        </tr>\n",
    "</table>"
   ]
  },
  {
   "cell_type": "markdown",
   "metadata": {
    "id": "hj6Jkw0x1zBz"
   },
   "source": [
    "# 3. Jelaskan menggunakan tabel mengenai kelebihan dan kekurangan paradigma Procedural dibandingkan dengan Functional (minimal 3) !"
   ]
  },
  {
   "cell_type": "markdown",
   "metadata": {
    "id": "YlhE3r7F1-8i"
   },
   "source": [
    "## Kekurangan Procedural dibandingkan Functional\n",
    "<table>\n",
    "        <tr>\n",
    "            <th bgcolor=\"purple\">Procedural</th>\n",
    "            <th bgcolor=\"purple\">Functional</th>\n",
    "        </tr>\n",
    "        <tr>\n",
    "            <td>Kurang cocok digunakan untuk tugas tertentu, <br> karena lebih mementingkan hasil</td>\n",
    "            <td>Lebih cocok digunakan untuk tugas tertentu</td>\n",
    "        </tr>\n",
    "        <tr>\n",
    "            <td>Jarang menggunakan fungsi, sehingga kode akan lebih panjang</td>\n",
    "            <td>Lebih sering menggunakan fungsi, sehingga kode akan lebih sedikit</td>\n",
    "        </tr>\n",
    "        <tr>\n",
    "            <td>Debugging lebih susah</td>\n",
    "            <td>Debugging lebih mudah</td>\n",
    "        </tr>\n",
    "</table>\n",
    "\n",
    "## Kelebihan Procedural dibandingkan Functional\n",
    "<table>\n",
    "        <tr>\n",
    "            <th bgcolor=\"purple\">Procedural</th>\n",
    "            <th bgcolor=\"purple\">Functional</th>\n",
    "        </tr>\n",
    "        <tr>\n",
    "            <td>Lebih mudah dipahami</td>\n",
    "            <td>Lebih sulit dipahami</td>\n",
    "        </tr>\n",
    "        <tr>\n",
    "            <td>Data bersifat mutable</td>\n",
    "            <td>Data bersifat imutable</td>\n",
    "        </tr>\n",
    "        <tr>\n",
    "            <td>Penulisan loop yang normal</td>\n",
    "            <td>Penulisan loop yang cenderung mengintimidasi</td>\n",
    "        </tr>\n",
    "</table>"
   ]
  },
  {
   "cell_type": "markdown",
   "metadata": {
    "id": "Ucf-TEBc6Xvc"
   },
   "source": [
    "# 4. Apa yang dimaksud dengan pure functional programming language?"
   ]
  },
  {
   "cell_type": "markdown",
   "metadata": {
    "id": "1hFaKDZw8HeP"
   },
   "source": [
    "Pure functional programming language adalah bahasa pemrograman yang memperlakukan seluruh perhitungan dan operasi sebagai fungsi matematika, di mana fungsi menerima parameter sebagai input dan mengembalikan nilai, tanpa mengubah nilai dari variabel manapun."
   ]
  },
  {
   "cell_type": "markdown",
   "metadata": {
    "id": "5dfB6_7e8r_u"
   },
   "source": [
    "#  5. Dari bahasa pemrograman FP di slide sebelumnya ( slide 14 ) , manakah yang termasuk pure functional programming language?\n"
   ]
  },
  {
   "cell_type": "markdown",
   "metadata": {
    "id": "agUXWyTd9jEd"
   },
   "source": [
    "Lisp, Haskell, dan Scala"
   ]
  },
  {
   "cell_type": "markdown",
   "metadata": {
    "id": "afcTLKB8_ba9"
   },
   "source": [
    "# 6. Membuat program Simple Password encryption, dengan ketentuan"
   ]
  },
  {
   "cell_type": "markdown",
   "metadata": {
    "id": "JXuBNijb9yfM"
   },
   "source": [
    "### 1. Input password bertipe string dengan batasan panjang password 100 karakter\n",
    "### 2. Setiap karakter dari string tersebut diubah menjadi ASCII value\n",
    "### 3. Kemudian setiap ASCII value tersebut dikembangkan menjadi 3 value dengan dilakukan operasi berikut:\n",
    "1. Value pertama dibagi dengan integer 26, lalu dibulatkan dan dijumlahkan dengan 80 dan diubah kembali menjadi karakter\n",
    "2. Value kedua dihitung sisa bagi dengan 26, lalu dijumlahkan dengan 80 dan diubah kembali menjadi karakter\n",
    "3. Value ketiga adalah karakter '+' jika value pertama lebih besar dari value kedua, atau value ketiga adalah karakter '-' apabila value pertama tidak lebih besar dari value kedua\n",
    "4. Deretkan value pertama, kedua dan ketiga untuk setiap karakter dalam password, sehingga didapat password dalam bentuk asli yang baru\n"
   ]
  },
  {
   "cell_type": "markdown",
   "metadata": {
    "id": "Kvb84MPj_ERW"
   },
   "source": [
    "## 1. Bantulah user tersebut dengan membuatkan sebuah program yang secara otomatis mengubah password yang di input menjadi terenkripsi sesuai aturan tersebut!\n"
   ]
  },
  {
   "cell_type": "code",
   "execution_count": 11,
   "metadata": {
    "id": "gGPJCnAyuSp9"
   },
   "outputs": [],
   "source": [
    "# menggunakan fungsi enkripsi pada password, \n",
    "# untuk mengambil dan mengubah password asli yang dapat dibaca menjadi format acak yang sulit dipahami\n",
    "# untuk mengamankan informasi password itu sendiri\n",
    "def enkripsi(password_syifa):\n",
    "  # jika panjang karakter password lebih dari 100()\n",
    "  if len(password_syifa) > 100 or len(password_syifa) == 0:\n",
    "    print(\"Masukkan Password Maksimal 100 karakter!\")\n",
    "  else:\n",
    "    # merubah setiap karakter menjadi kode ascii (kode yang digunakan untuk mewakilkan karakter, baik angka maupun huruf dalam komputer) \n",
    "    # dan ditampung dalam sebuah list\n",
    "    ascii = [str(ord(s)) for s in password_syifa]\n",
    "    # membuat 3 value dari setiap kode ascii, lalu digabungkan\n",
    "    enkripsi_pw = ''.join(chr((int(i)//26)+80)+chr((int(i)%26)+80)+('+' if (int(i)//26)+80 > (int(i)%26)+80 else '-') for i in ascii)\n",
    "    # menampilkan hasil enkripsi password\n",
    "    print(\"Enkripsi Password Anda: \", enkripsi_pw)\n",
    "\n",
    "# menggunakan fungsi deksripsi,\n",
    "# untuk mengambil dan mengubah format acak yang sulit dipahami menjadi password yang dapat dibaca\n",
    "def dekripsi(password_syifa):\n",
    "  # split 3 value \n",
    "  split_password = [(password_syifa[f:f+3]) for f in range(0, len(password_syifa), 3)]\n",
    "   # membuat 3 value kembali ke kode ascii, lalu ke karakter asli password dan digabungkan\n",
    "  dekripsi_pw = ''.join(chr(((ord(list(a)[0])-80)*26)+(ord(list(a)[1])-80)) for a in split_password)\n",
    "  # menampilkan hasil dekripsi password\n",
    "  print(\"Password Asli Anda: \", dekripsi_pw)\n"
   ]
  },
  {
   "cell_type": "markdown",
   "metadata": {
    "id": "lODks5r6_z8u"
   },
   "source": [
    "## 2. Apa output yang dihasilkan dari program tersebut jika input password adalah 'anakanakcerdas2020' ?"
   ]
  },
  {
   "cell_type": "code",
   "execution_count": 14,
   "metadata": {
    "colab": {
     "base_uri": "https://localhost:8080/"
    },
    "id": "q6TSN6xEuSp_",
    "outputId": "c8cf2c80-4589-46f9-b843-656694b468dc"
   },
   "outputs": [
    {
     "name": "stdout",
     "output_type": "stream",
     "text": [
      "Masukkan Password Anda: anakanakcerdas2020\n",
      "Enkripsi Password Anda:  Sc-TV-Sc-TS+Sc-TV-Sc-TS+Se-Sg-TZ-Sf-Sc-T[-Qh-Qf-Qh-Qf-\n"
     ]
    }
   ],
   "source": [
    "# enkripsi\n",
    "password_syifa = input(\"Masukkan Password Anda: \")\n",
    "enkripsi(password_syifa)"
   ]
  },
  {
   "cell_type": "markdown",
   "metadata": {
    "id": "pwpV1I8s_jCV"
   },
   "source": [
    "## 3. (Bonus) User tersebut lupa password asli yang dia inputkan ke dalam program tersebut, password setelah dienkripsi adalah 'Sc-TV-Sc-TS+T[-Sc-TQ+TV-T[-Sf-Sc-T\\-Sc-Qh-Qf-Qh-Qf-TS+Sg-Se-Sg-'. Bantulah user tersebut mendapatkan password asli nya!"
   ]
  },
  {
   "cell_type": "code",
   "execution_count": 15,
   "metadata": {
    "colab": {
     "base_uri": "https://localhost:8080/"
    },
    "id": "YsRAErsruSp_",
    "outputId": "a1a296cd-ca73-4f83-f101-98845b1b6dba"
   },
   "outputs": [
    {
     "name": "stdout",
     "output_type": "stream",
     "text": [
      "Masukkan Enkripsi Password Anda: Sc-TV-Sc-TS+T[-Sc-TQ+TV-T[-Sf-Sc-T\\-Sc-Qh-Qf-Qh-Qf-TS+Sg-Se-Sg-\n",
      "Password Asli Anda:  anaksainsdata2020kece\n"
     ]
    }
   ],
   "source": [
    "# dekripsi\n",
    "enkripsi_password = input(\"Masukkan Enkripsi Password Anda: \")\n",
    "dekripsi(enkripsi_password)"
   ]
  }
 ],
 "metadata": {
  "colab": {
   "provenance": []
  },
  "kernelspec": {
   "display_name": "Python 3 (ipykernel)",
   "language": "python",
   "name": "python3"
  },
  "language_info": {
   "codemirror_mode": {
    "name": "ipython",
    "version": 3
   },
   "file_extension": ".py",
   "mimetype": "text/x-python",
   "name": "python",
   "nbconvert_exporter": "python",
   "pygments_lexer": "ipython3",
   "version": "3.10.6"
  }
 },
 "nbformat": 4,
 "nbformat_minor": 1
}
